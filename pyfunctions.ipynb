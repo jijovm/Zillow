{
 "cells": [
  {
   "cell_type": "markdown",
   "metadata": {},
   "source": [
    "## This script contains reusable functions"
   ]
  },
  {
   "cell_type": "code",
   "execution_count": 3,
   "metadata": {},
   "outputs": [],
   "source": [
    "import pandas as pd\n",
    "import numpy as np\n",
    "\n",
    "def read_file(file, verbose=False):\n",
    "    \"\"\"\n",
    "    This function is to read a file into a dataframe and display details\n",
    "    \n",
    "    Parameters \n",
    "    ----------\n",
    "      file - File Name\n",
    "    \n",
    "    Returns\n",
    "    -------\n",
    "      Dataframe\n",
    "    \n",
    "    \"\"\"\n",
    "    \n",
    "    data_frame = pd.read_csv('/Users/jijovarghese/Projects/Portfolio/Zillow/extract/{0}.csv'.format(file))\n",
    "    \n",
    "    if verbose:\n",
    "        print('\\n{0:*^80}'.format(' Reading in the ''{0}'' dataset '.format(file)))\n",
    "        print(\"\\nit has {0} rows and {1} columns\".format(*data_frame.shape))\n",
    "        print('\\n{0:*^80}\\n'.format(' It has the following columns '))\n",
    "        print(data_frame.columns)\n",
    "        print('\\n{0:*^80}\\n'.format(' The first 5 rows look like this '))\n",
    "        print(data_frame.head())\n",
    "        \n",
    "    return data_frame\n",
    "\n"
   ]
  },
  {
   "cell_type": "code",
   "execution_count": null,
   "metadata": {},
   "outputs": [],
   "source": []
  }
 ],
 "metadata": {
  "kernelspec": {
   "display_name": "Python 3",
   "language": "python",
   "name": "python3"
  },
  "language_info": {
   "codemirror_mode": {
    "name": "ipython",
    "version": 3
   },
   "file_extension": ".py",
   "mimetype": "text/x-python",
   "name": "python",
   "nbconvert_exporter": "python",
   "pygments_lexer": "ipython3",
   "version": "3.6.3"
  }
 },
 "nbformat": 4,
 "nbformat_minor": 2
}
