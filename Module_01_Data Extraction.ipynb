{
 "cells": [
  {
   "cell_type": "markdown",
   "metadata": {},
   "source": [
    "## The dataset for Zillow Prize: Zillow’s Home Value Prediction is downloaded from Kaggle, unzipped and made it ready for further analysis"
   ]
  },
  {
   "cell_type": "code",
   "execution_count": 1,
   "metadata": {},
   "outputs": [
    {
     "name": "stdout",
     "output_type": "stream",
     "text": [
      "total 0\r\n",
      "-rw-r--r--@ 1 jijovarghese  staff     0B 10 Mar 18:26 zillow-prize-1.zip\r\n"
     ]
    }
   ],
   "source": [
    "!ls -lh Download"
   ]
  },
  {
   "cell_type": "code",
   "execution_count": 5,
   "metadata": {},
   "outputs": [
    {
     "name": "stdout",
     "output_type": "stream",
     "text": [
      "Archive:  Download/zillow-prize-1.zip\n",
      "  inflating: extract/properties_2016.csv  \n",
      "  inflating: extract/properties_2017.csv  \n",
      "  inflating: extract/sample_submission.csv  \n",
      "  inflating: extract/train_2016_v2.csv  \n",
      "  inflating: extract/train_2017.csv  \n",
      "  inflating: extract/zillow_data_dictionary.xlsx  \n"
     ]
    }
   ],
   "source": [
    "%%bash\n",
    "\n",
    "# make a folder for unzipped data \n",
    "rm -rf extract\n",
    "mkdir extract\n",
    "\n",
    "# unzip the file\n",
    "unzip \"Download/*.zip\" -d extract"
   ]
  },
  {
   "cell_type": "code",
   "execution_count": null,
   "metadata": {},
   "outputs": [],
   "source": []
  }
 ],
 "metadata": {
  "kernelspec": {
   "display_name": "Python 3",
   "language": "python",
   "name": "python3"
  },
  "language_info": {
   "codemirror_mode": {
    "name": "ipython",
    "version": 3
   },
   "file_extension": ".py",
   "mimetype": "text/x-python",
   "name": "python",
   "nbconvert_exporter": "python",
   "pygments_lexer": "ipython3",
   "version": "3.6.3"
  }
 },
 "nbformat": 4,
 "nbformat_minor": 2
}
